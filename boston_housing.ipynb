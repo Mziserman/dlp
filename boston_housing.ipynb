{
 "cells": [
  {
   "cell_type": "code",
   "execution_count": 7,
   "metadata": {},
   "outputs": [],
   "source": [
    "from keras.datasets import boston_housing\n",
    "\n",
    "(train_data, train_targets), (test_data, test_targets) = boston_housing.load_data()"
   ]
  },
  {
   "cell_type": "code",
   "execution_count": 8,
   "metadata": {},
   "outputs": [],
   "source": [
    "mean = train_data.mean(axis=0)\n",
    "train_data -= mean\n",
    "std = train_data.std(axis=0)\n",
    "train_data /= std\n",
    "\n",
    "test_data -= mean\n",
    "test_data /= std"
   ]
  },
  {
   "cell_type": "code",
   "execution_count": 10,
   "metadata": {},
   "outputs": [],
   "source": [
    "from keras import models\n",
    "from keras import layers\n",
    "\n",
    "def build_model():\n",
    "    model = models.Sequential()\n",
    "    model.add(layers.Dense(64, activation='relu', input_shape=(train_data.shape[1],)))\n",
    "    model.add(layers.Dense(64, activation='relu'))\n",
    "    model.add(layers.Dense(1))\n",
    "    model.compile(optimizer='rmsprop', loss='mse', metrics=['mae'])\n",
    "    return model"
   ]
  },
  {
   "cell_type": "code",
   "execution_count": 48,
   "metadata": {},
   "outputs": [
    {
     "name": "stdout",
     "output_type": "stream",
     "text": [
      "processing fold # 0\n",
      "processing fold # 1\n",
      "processing fold # 2\n",
      "processing fold # 3\n"
     ]
    }
   ],
   "source": [
    "import numpy as np\n",
    "\n",
    "k = 4\n",
    "num_val_samples = len(train_data) // k\n",
    "num_epochs = 500\n",
    "all_mae_histories = []\n",
    "\n",
    "for i in range(k):\n",
    "    print('processing fold #', i)\n",
    "    val_data = train_data[i * num_val_samples:(i+1) * num_val_samples]\n",
    "    val_targets = train_targets[i * num_val_samples:(i+1) * num_val_samples]\n",
    "    \n",
    "    partial_train_data = np.concatenate(\n",
    "        [\n",
    "            train_data[:i * num_val_samples],\n",
    "            train_data[(i+1) * num_val_samples:]\n",
    "        ], axis=0\n",
    "    )\n",
    "    \n",
    "    partial_train_targets = np.concatenate(\n",
    "        [\n",
    "            train_targets[:i * num_val_samples],\n",
    "            train_targets[(i+1) * num_val_samples:]\n",
    "        ], axis=0\n",
    "    )\n",
    "    \n",
    "    model = build_model()\n",
    "    history = model.fit(\n",
    "        partial_train_data, \n",
    "        partial_train_targets, \n",
    "        validation_data=(val_data, val_targets), \n",
    "        epochs=num_epochs, \n",
    "        batch_size=1, \n",
    "        verbose=0)\n",
    "    mae_history = history.history['val_mean_absolute_error']\n",
    "    all_mae_histories.append(mae_history)"
   ]
  },
  {
   "cell_type": "code",
   "execution_count": 49,
   "metadata": {},
   "outputs": [],
   "source": [
    "average_mae_history = [\n",
    "    np.mean([x[i] for x in all_mae_histories]) for i in range(num_epochs)\n",
    "]"
   ]
  },
  {
   "cell_type": "code",
   "execution_count": 57,
   "metadata": {},
   "outputs": [
    {
     "data": {
      "image/png": "[encoded data removed]",
      "text/plain": [
       "<matplotlib.figure.Figure at 0x11b296c88>"
      ]
     },
     "metadata": {},
     "output_type": "display_data"
    }
   ],
   "source": [
    "import matplotlib.pyplot as plt\n",
    "\n",
    "def smooth_curve(points, factor=0.9):\n",
    "    smoothed_points = []\n",
    "    for point in points:\n",
    "        if smoothed_points:\n",
    "            previous = smoothed_points[-1]\n",
    "            smoothed_points.append(previous * factor + point * (1 - factor))\n",
    "        else:\n",
    "            smoothed_points.append(point)\n",
    "    return smoothed_points\n",
    "\n",
    "smooth_mae_history = smooth_curve(average_mae_history[10:])\n",
    "\n",
    "plt.plot(range(1, len(smooth_mae_history) + 1), smooth_mae_history)\n",
    "plt.xlabel(\"Epochs\")\n",
    "plt.ylabel(\"Validation MAE\")\n",
    "plt.show()"
   ]
  },
  {
   "cell_type": "code",
   "execution_count": 58,
   "metadata": {},
   "outputs": [
    {
     "name": "stdout",
     "output_type": "stream",
     "text": [
      "Epoch 1/80\n",
      "404/404 [==============================] - 1s 2ms/step - loss: 492.5746 - mean_absolute_error: 20.1985\n",
      "Epoch 2/80\n",
      "404/404 [==============================] - 0s 102us/step - loss: 305.7726 - mean_absolute_error: 15.3361\n",
      "Epoch 3/80\n",
      "404/404 [==============================] - 0s 91us/step - loss: 144.2585 - mean_absolute_error: 9.7977\n",
      "Epoch 4/80\n",
      "404/404 [==============================] - 0s 98us/step - loss: 64.5229 - mean_absolute_error: 6.1958\n",
      "Epoch 5/80\n",
      "404/404 [==============================] - 0s 77us/step - loss: 37.8949 - mean_absolute_error: 4.6002\n",
      "Epoch 6/80\n",
      "404/404 [==============================] - 0s 104us/step - loss: 26.9130 - mean_absolute_error: 3.7615\n",
      "Epoch 7/80\n",
      "404/404 [==============================] - 0s 103us/step - loss: 21.6370 - mean_absolute_error: 3.2591\n",
      "Epoch 8/80\n",
      "404/404 [==============================] - 0s 105us/step - loss: 19.1745 - mean_absolute_error: 3.1339\n",
      "Epoch 9/80\n",
      "404/404 [==============================] - 0s 80us/step - loss: 17.2372 - mean_absolute_error: 2.8725\n",
      "Epoch 10/80\n",
      "404/404 [==============================] - 0s 84us/step - loss: 15.3341 - mean_absolute_error: 2.7091\n",
      "Epoch 11/80\n",
      "404/404 [==============================] - 0s 80us/step - loss: 14.2016 - mean_absolute_error: 2.6136\n",
      "Epoch 12/80\n",
      "404/404 [==============================] - 0s 80us/step - loss: 13.1236 - mean_absolute_error: 2.5513\n",
      "Epoch 13/80\n",
      "404/404 [==============================] - 0s 85us/step - loss: 12.3390 - mean_absolute_error: 2.4678\n",
      "Epoch 14/80\n",
      "404/404 [==============================] - 0s 86us/step - loss: 11.5495 - mean_absolute_error: 2.4069\n",
      "Epoch 15/80\n",
      "404/404 [==============================] - 0s 84us/step - loss: 10.9278 - mean_absolute_error: 2.3635\n",
      "Epoch 16/80\n",
      "404/404 [==============================] - 0s 111us/step - loss: 10.8732 - mean_absolute_error: 2.3748\n",
      "Epoch 17/80\n",
      "404/404 [==============================] - 0s 89us/step - loss: 10.4991 - mean_absolute_error: 2.2934\n",
      "Epoch 18/80\n",
      "404/404 [==============================] - 0s 97us/step - loss: 10.2899 - mean_absolute_error: 2.2889\n",
      "Epoch 19/80\n",
      "404/404 [==============================] - 0s 91us/step - loss: 9.9330 - mean_absolute_error: 2.2535\n",
      "Epoch 20/80\n",
      "404/404 [==============================] - 0s 84us/step - loss: 9.6340 - mean_absolute_error: 2.2258\n",
      "Epoch 21/80\n",
      "404/404 [==============================] - 0s 127us/step - loss: 9.6310 - mean_absolute_error: 2.1972\n",
      "Epoch 22/80\n",
      "404/404 [==============================] - 0s 109us/step - loss: 9.4309 - mean_absolute_error: 2.1930\n",
      "Epoch 23/80\n",
      "404/404 [==============================] - 0s 112us/step - loss: 9.0705 - mean_absolute_error: 2.1559\n",
      "Epoch 24/80\n",
      "404/404 [==============================] - 0s 109us/step - loss: 9.0999 - mean_absolute_error: 2.1410\n",
      "Epoch 25/80\n",
      "404/404 [==============================] - 0s 101us/step - loss: 8.8300 - mean_absolute_error: 2.1273\n",
      "Epoch 26/80\n",
      "404/404 [==============================] - 0s 110us/step - loss: 8.8290 - mean_absolute_error: 2.0992\n",
      "Epoch 27/80\n",
      "404/404 [==============================] - 0s 111us/step - loss: 8.6178 - mean_absolute_error: 2.0987\n",
      "Epoch 28/80\n",
      "404/404 [==============================] - 0s 110us/step - loss: 8.4772 - mean_absolute_error: 2.0452\n",
      "Epoch 29/80\n",
      "404/404 [==============================] - 0s 112us/step - loss: 8.6149 - mean_absolute_error: 2.0888\n",
      "Epoch 30/80\n",
      "404/404 [==============================] - 0s 112us/step - loss: 8.2615 - mean_absolute_error: 2.0358\n",
      "Epoch 31/80\n",
      "404/404 [==============================] - 0s 111us/step - loss: 8.3057 - mean_absolute_error: 2.0489\n",
      "Epoch 32/80\n",
      "404/404 [==============================] - 0s 113us/step - loss: 8.0148 - mean_absolute_error: 2.0319\n",
      "Epoch 33/80\n",
      "404/404 [==============================] - 0s 121us/step - loss: 7.9833 - mean_absolute_error: 2.0097\n",
      "Epoch 34/80\n",
      "404/404 [==============================] - 0s 106us/step - loss: 7.8481 - mean_absolute_error: 2.0091\n",
      "Epoch 35/80\n",
      "404/404 [==============================] - 0s 111us/step - loss: 7.5473 - mean_absolute_error: 1.9816\n",
      "Epoch 36/80\n",
      "404/404 [==============================] - 0s 117us/step - loss: 7.8282 - mean_absolute_error: 1.9964\n",
      "Epoch 37/80\n",
      "404/404 [==============================] - 0s 121us/step - loss: 7.7873 - mean_absolute_error: 1.9939\n",
      "Epoch 38/80\n",
      "404/404 [==============================] - 0s 108us/step - loss: 7.6499 - mean_absolute_error: 1.9778\n",
      "Epoch 39/80\n",
      "404/404 [==============================] - 0s 145us/step - loss: 7.3354 - mean_absolute_error: 1.9579\n",
      "Epoch 40/80\n",
      "404/404 [==============================] - 0s 182us/step - loss: 7.5288 - mean_absolute_error: 1.9502\n",
      "Epoch 41/80\n",
      "404/404 [==============================] - 0s 105us/step - loss: 7.3007 - mean_absolute_error: 1.9158\n",
      "Epoch 42/80\n",
      "404/404 [==============================] - 0s 109us/step - loss: 7.2416 - mean_absolute_error: 1.9521\n",
      "Epoch 43/80\n",
      "404/404 [==============================] - 0s 93us/step - loss: 7.4375 - mean_absolute_error: 1.9463\n",
      "Epoch 44/80\n",
      "404/404 [==============================] - 0s 74us/step - loss: 7.2075 - mean_absolute_error: 1.9116\n",
      "Epoch 45/80\n",
      "404/404 [==============================] - 0s 84us/step - loss: 7.0464 - mean_absolute_error: 1.8665\n",
      "Epoch 46/80\n",
      "404/404 [==============================] - 0s 102us/step - loss: 7.1616 - mean_absolute_error: 1.9230\n",
      "Epoch 47/80\n",
      "404/404 [==============================] - 0s 108us/step - loss: 6.9740 - mean_absolute_error: 1.8790\n",
      "Epoch 48/80\n",
      "404/404 [==============================] - 0s 83us/step - loss: 6.7356 - mean_absolute_error: 1.8737\n",
      "Epoch 49/80\n",
      "404/404 [==============================] - 0s 99us/step - loss: 6.8810 - mean_absolute_error: 1.8547\n",
      "Epoch 50/80\n",
      "404/404 [==============================] - 0s 93us/step - loss: 6.9519 - mean_absolute_error: 1.8904\n",
      "Epoch 51/80\n",
      "404/404 [==============================] - 0s 102us/step - loss: 6.7799 - mean_absolute_error: 1.8407\n",
      "Epoch 52/80\n",
      "404/404 [==============================] - 0s 93us/step - loss: 6.7822 - mean_absolute_error: 1.8507\n",
      "Epoch 53/80\n",
      "404/404 [==============================] - 0s 88us/step - loss: 6.8381 - mean_absolute_error: 1.8312\n",
      "Epoch 54/80\n",
      "404/404 [==============================] - 0s 88us/step - loss: 6.7058 - mean_absolute_error: 1.8206\n",
      "Epoch 55/80\n",
      "404/404 [==============================] - 0s 90us/step - loss: 6.6756 - mean_absolute_error: 1.8167\n",
      "Epoch 56/80\n",
      "404/404 [==============================] - 0s 89us/step - loss: 6.5177 - mean_absolute_error: 1.8126\n",
      "Epoch 57/80\n",
      "404/404 [==============================] - 0s 79us/step - loss: 6.5407 - mean_absolute_error: 1.7946\n",
      "Epoch 58/80\n",
      "404/404 [==============================] - 0s 88us/step - loss: 6.2716 - mean_absolute_error: 1.7895\n",
      "Epoch 59/80\n",
      "404/404 [==============================] - 0s 94us/step - loss: 6.3466 - mean_absolute_error: 1.7569\n",
      "Epoch 60/80\n",
      "404/404 [==============================] - 0s 79us/step - loss: 6.3975 - mean_absolute_error: 1.7839\n",
      "Epoch 61/80\n",
      "404/404 [==============================] - 0s 72us/step - loss: 6.2917 - mean_absolute_error: 1.7835\n",
      "Epoch 62/80\n",
      "404/404 [==============================] - 0s 82us/step - loss: 6.1969 - mean_absolute_error: 1.7671\n",
      "Epoch 63/80\n",
      "404/404 [==============================] - 0s 109us/step - loss: 5.9619 - mean_absolute_error: 1.7462\n",
      "Epoch 64/80\n",
      "404/404 [==============================] - 0s 91us/step - loss: 5.9771 - mean_absolute_error: 1.7581\n",
      "Epoch 65/80\n",
      "404/404 [==============================] - 0s 106us/step - loss: 6.1860 - mean_absolute_error: 1.7763\n",
      "Epoch 66/80\n",
      "404/404 [==============================] - 0s 83us/step - loss: 6.0662 - mean_absolute_error: 1.7609\n",
      "Epoch 67/80\n",
      "404/404 [==============================] - 0s 101us/step - loss: 5.7960 - mean_absolute_error: 1.7094\n",
      "Epoch 68/80\n",
      "404/404 [==============================] - 0s 119us/step - loss: 5.7169 - mean_absolute_error: 1.7163\n",
      "Epoch 69/80\n",
      "404/404 [==============================] - 0s 108us/step - loss: 5.9030 - mean_absolute_error: 1.7521\n",
      "Epoch 70/80\n",
      "404/404 [==============================] - 0s 94us/step - loss: 5.8004 - mean_absolute_error: 1.7045\n",
      "Epoch 71/80\n",
      "404/404 [==============================] - 0s 76us/step - loss: 5.8547 - mean_absolute_error: 1.7332\n",
      "Epoch 72/80\n",
      "404/404 [==============================] - 0s 81us/step - loss: 5.6874 - mean_absolute_error: 1.7044\n",
      "Epoch 73/80\n"
     ]
    },
    {
     "name": "stdout",
     "output_type": "stream",
     "text": [
      "404/404 [==============================] - 0s 73us/step - loss: 5.7136 - mean_absolute_error: 1.6979\n",
      "Epoch 74/80\n",
      "404/404 [==============================] - 0s 75us/step - loss: 5.8223 - mean_absolute_error: 1.7299\n",
      "Epoch 75/80\n",
      "404/404 [==============================] - 0s 94us/step - loss: 5.5566 - mean_absolute_error: 1.6843\n",
      "Epoch 76/80\n",
      "404/404 [==============================] - 0s 81us/step - loss: 5.6842 - mean_absolute_error: 1.7107\n",
      "Epoch 77/80\n",
      "404/404 [==============================] - 0s 77us/step - loss: 5.4553 - mean_absolute_error: 1.6544\n",
      "Epoch 78/80\n",
      "404/404 [==============================] - 0s 81us/step - loss: 5.5695 - mean_absolute_error: 1.6918\n",
      "Epoch 79/80\n",
      "404/404 [==============================] - 0s 77us/step - loss: 5.4097 - mean_absolute_error: 1.6627\n",
      "Epoch 80/80\n",
      "404/404 [==============================] - 0s 73us/step - loss: 5.6384 - mean_absolute_error: 1.6649\n",
      "102/102 [==============================] - 0s 1ms/step\n"
     ]
    }
   ],
   "source": [
    "model = build_model()\n",
    "model.fit(train_data, train_targets, epochs=80, batch_size=16)\n",
    "test_mse_score, test_mae_score = model.evaluate(test_data, test_targets)"
   ]
  },
  {
   "cell_type": "code",
   "execution_count": 59,
   "metadata": {},
   "outputs": [
    {
     "data": {
      "text/plain": [
       "3.031222895079968"
      ]
     },
     "execution_count": 59,
     "metadata": {},
     "output_type": "execute_result"
    }
   ],
   "source": [
    "test_mae_score"
   ]
  }
 ],
 "metadata": {
  "kernelspec": {
   "display_name": "Python 3",
   "language": "python",
   "name": "python3"
  },
  "language_info": {
   "codemirror_mode": {
    "name": "ipython",
    "version": 3
   },
   "file_extension": ".py",
   "mimetype": "text/x-python",
   "name": "python",
   "nbconvert_exporter": "python",
   "pygments_lexer": "ipython3",
   "version": "3.6.3"
  }
 },
 "nbformat": 4,
 "nbformat_minor": 2
}
