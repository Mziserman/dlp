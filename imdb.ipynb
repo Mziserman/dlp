{
 "cells": [
  {
   "cell_type": "code",
   "execution_count": 111,
   "metadata": {},
   "outputs": [],
   "source": [
    "from keras.datasets import imdb\n",
    "import numpy as np\n",
    "word_index = imdb.get_word_index()\n",
    "(train_data, train_labels), (test_data, test_labels) = imdb.load_data(num_words=10000)"
   ]
  },
  {
   "cell_type": "code",
   "execution_count": 112,
   "metadata": {},
   "outputs": [
    {
     "name": "stdout",
     "output_type": "stream",
     "text": [
      "? this film was just brilliant casting location scenery story direction everyone's really suited the part they played and you could just imagine being there robert ? is an amazing actor and now the same being director ? father came from the same scottish island as myself so i loved the fact there was a real connection with this film the witty remarks throughout the film were great it was just brilliant so much that i bought the film as soon as it was released for ? and would recommend it to everyone to watch and the fly fishing was amazing really cried at the end it was so sad and you know what they say if you cry at a film it must have been good and this definitely was also ? to the two little boy's that played the ? of norman and paul they were just brilliant children are often left out of the ? list i think because the stars that play them all grown up are such a big profile for the whole film but these children are amazing and should be praised for what they have done don't you think the whole story was so lovely because it was true and was someone's life after all that was shared with us all\n"
     ]
    }
   ],
   "source": [
    "reverse_word_index = dict(\n",
    "    [(value, key) for (key, value) in word_index.items()]\n",
    ")\n",
    "\n",
    "decoded_review = ' '.join(\n",
    "    [reverse_word_index.get(i - 3, '?') for i in train_data[0]]\n",
    ")\n",
    "\n",
    "print(decoded_review)"
   ]
  },
  {
   "cell_type": "code",
   "execution_count": 100,
   "metadata": {},
   "outputs": [],
   "source": [
    "def vectorize_sequences(sequences, dimension=10000):\n",
    "    results = np.zeros((len(sequences), dimension))\n",
    "    for i, sequence in enumerate(sequences):\n",
    "        results[i, sequence] = 1.\n",
    "    return results\n",
    "x_train = vectorize_sequences(train_data)\n",
    "x_test = vectorize_sequences(test_data)"
   ]
  },
  {
   "cell_type": "code",
   "execution_count": 101,
   "metadata": {},
   "outputs": [],
   "source": [
    "y_train = np.asarray(train_labels).astype('float32')\n",
    "y_test = np.asarray(test_labels).astype('float32')"
   ]
  },
  {
   "cell_type": "code",
   "execution_count": 102,
   "metadata": {},
   "outputs": [],
   "source": [
    "from keras import models\n",
    "from keras import layers\n",
    "\n",
    "model = models.Sequential()\n",
    "model.add(layers.Dense(16, activation='relu', input_shape=(10000,)))\n",
    "model.add(layers.Dense(16, activation='relu'))\n",
    "model.add(layers.Dense(1, activation='sigmoid'))"
   ]
  },
  {
   "cell_type": "code",
   "execution_count": 103,
   "metadata": {},
   "outputs": [],
   "source": [
    "model.compile(optimizer='rmsprop',\n",
    "              loss='binary_crossentropy',\n",
    "              metrics=['accuracy'])"
   ]
  },
  {
   "cell_type": "code",
   "execution_count": 104,
   "metadata": {},
   "outputs": [],
   "source": [
    "x_val = x_train[:10000]\n",
    "partial_x_train = x_train[10000:]\n",
    "y_val = y_train[:10000]\n",
    "partial_y_train = y_train[10000:]"
   ]
  },
  {
   "cell_type": "code",
   "execution_count": 105,
   "metadata": {
    "scrolled": true
   },
   "outputs": [
    {
     "name": "stdout",
     "output_type": "stream",
     "text": [
      "Train on 15000 samples, validate on 10000 samples\n",
      "Epoch 1/20\n",
      "15000/15000 [==============================] - 3s 205us/step - loss: 0.5084 - acc: 0.7813 - val_loss: 0.3796 - val_acc: 0.8686\n",
      "Epoch 2/20\n",
      "15000/15000 [==============================] - 2s 131us/step - loss: 0.3004 - acc: 0.9047 - val_loss: 0.3004 - val_acc: 0.8895\n",
      "Epoch 3/20\n",
      "15000/15000 [==============================] - 2s 134us/step - loss: 0.2179 - acc: 0.9285 - val_loss: 0.3086 - val_acc: 0.8710\n",
      "Epoch 4/20\n",
      "15000/15000 [==============================] - 2s 131us/step - loss: 0.1750 - acc: 0.9437 - val_loss: 0.2839 - val_acc: 0.8834\n",
      "Epoch 5/20\n",
      "15000/15000 [==============================] - 2s 119us/step - loss: 0.1427 - acc: 0.9541 - val_loss: 0.2848 - val_acc: 0.8863\n",
      "Epoch 6/20\n",
      "15000/15000 [==============================] - 2s 113us/step - loss: 0.1150 - acc: 0.9651 - val_loss: 0.3155 - val_acc: 0.8771\n",
      "Epoch 7/20\n",
      "15000/15000 [==============================] - 2s 118us/step - loss: 0.0980 - acc: 0.9705 - val_loss: 0.3127 - val_acc: 0.8844\n",
      "Epoch 8/20\n",
      "15000/15000 [==============================] - 2s 111us/step - loss: 0.0807 - acc: 0.9764 - val_loss: 0.3858 - val_acc: 0.8651\n",
      "Epoch 9/20\n",
      "15000/15000 [==============================] - 2s 116us/step - loss: 0.0661 - acc: 0.9821 - val_loss: 0.3632 - val_acc: 0.8780\n",
      "Epoch 10/20\n",
      "15000/15000 [==============================] - 2s 144us/step - loss: 0.0561 - acc: 0.9851 - val_loss: 0.3841 - val_acc: 0.8794\n",
      "Epoch 11/20\n",
      "15000/15000 [==============================] - 2s 123us/step - loss: 0.0440 - acc: 0.9892 - val_loss: 0.4152 - val_acc: 0.8774\n",
      "Epoch 12/20\n",
      "15000/15000 [==============================] - 2s 119us/step - loss: 0.0382 - acc: 0.9917 - val_loss: 0.4522 - val_acc: 0.8690\n",
      "Epoch 13/20\n",
      "15000/15000 [==============================] - 2s 118us/step - loss: 0.0300 - acc: 0.9927 - val_loss: 0.4696 - val_acc: 0.8728\n",
      "Epoch 14/20\n",
      "15000/15000 [==============================] - 2s 113us/step - loss: 0.0247 - acc: 0.9947 - val_loss: 0.5019 - val_acc: 0.8726\n",
      "Epoch 15/20\n",
      "15000/15000 [==============================] - 2s 116us/step - loss: 0.0173 - acc: 0.9982 - val_loss: 0.5416 - val_acc: 0.8691\n",
      "Epoch 16/20\n",
      "15000/15000 [==============================] - 2s 112us/step - loss: 0.0150 - acc: 0.9979 - val_loss: 0.5866 - val_acc: 0.8667\n",
      "Epoch 17/20\n",
      "15000/15000 [==============================] - 2s 116us/step - loss: 0.0120 - acc: 0.9986 - val_loss: 0.6097 - val_acc: 0.8685\n",
      "Epoch 18/20\n",
      "15000/15000 [==============================] - 2s 125us/step - loss: 0.0112 - acc: 0.9977 - val_loss: 0.6393 - val_acc: 0.8674\n",
      "Epoch 19/20\n",
      "15000/15000 [==============================] - 2s 113us/step - loss: 0.0063 - acc: 0.9995 - val_loss: 0.7475 - val_acc: 0.8539\n",
      "Epoch 20/20\n",
      "15000/15000 [==============================] - 2s 112us/step - loss: 0.0049 - acc: 0.9998 - val_loss: 0.7132 - val_acc: 0.8642\n"
     ]
    }
   ],
   "source": [
    "history = model.fit(partial_x_train,\n",
    "                    partial_y_train,\n",
    "                    epochs=20,\n",
    "                    batch_size=512,\n",
    "                    validation_data=(x_val, y_val))"
   ]
  },
  {
   "cell_type": "code",
   "execution_count": 106,
   "metadata": {},
   "outputs": [
    {
     "data": {
      "image/png": "[encoded data removed]",
      "text/plain": [
       "<matplotlib.figure.Figure at 0x12a5d3fd0>"
      ]
     },
     "metadata": {},
     "output_type": "display_data"
    }
   ],
   "source": [
    "import matplotlib.pyplot as plt\n",
    "\n",
    "history_dict = history.history\n",
    "loss_values = history_dict['loss']\n",
    "val_loss_values = history_dict['val_loss']\n",
    "acc = history_dict['val_acc']\n",
    "\n",
    "epochs = range(1, len(acc) + 1)\n",
    "\n",
    "plt.plot(epochs, loss_values, 'bo', label='Training loss')\n",
    "plt.plot(epochs, val_loss_values, 'b', label='Validation loss')\n",
    "plt.title('Training and validation')\n",
    "plt.xlabel('Epochs')\n",
    "plt.ylabel('Loss')\n",
    "plt.legend()\n",
    "\n",
    "plt.show()"
   ]
  },
  {
   "cell_type": "code",
   "execution_count": 107,
   "metadata": {},
   "outputs": [
    {
     "data": {
      "image/png": "[encoded data removed]",
      "text/plain": [
       "<matplotlib.figure.Figure at 0x12a5d3be0>"
      ]
     },
     "metadata": {},
     "output_type": "display_data"
    }
   ],
   "source": [
    "plt.clf()\n",
    "acc_values = history_dict['acc']\n",
    "val_acc_values = history_dict['val_acc']\n",
    "\n",
    "plt.plot(epochs, acc_values, 'bo', label=\"Training accuracy\")\n",
    "plt.plot(epochs, val_acc_values, 'b', label=\"Validation accuracy\")\n",
    "plt.title(\"Training and validation accuracy\")\n",
    "plt.xlabel('Epochs')\n",
    "plt.ylabel('Loss')\n",
    "plt.legend()\n",
    "\n",
    "plt.show()"
   ]
  },
  {
   "cell_type": "code",
   "execution_count": 108,
   "metadata": {},
   "outputs": [
    {
     "name": "stdout",
     "output_type": "stream",
     "text": [
      "Epoch 1/4\n",
      "25000/25000 [==============================] - 3s 104us/step - loss: 0.4749 - acc: 0.8217\n",
      "Epoch 2/4\n",
      "25000/25000 [==============================] - 2s 72us/step - loss: 0.2659 - acc: 0.9098\n",
      "Epoch 3/4\n",
      "25000/25000 [==============================] - 2s 75us/step - loss: 0.1983 - acc: 0.9299\n",
      "Epoch 4/4\n",
      "25000/25000 [==============================] - 2s 79us/step - loss: 0.1679 - acc: 0.9402\n"
     ]
    },
    {
     "data": {
      "text/plain": [
       "<keras.callbacks.History at 0x12e79ee80>"
      ]
     },
     "execution_count": 108,
     "metadata": {},
     "output_type": "execute_result"
    }
   ],
   "source": [
    "model1 = models.Sequential()\n",
    "model1.add(layers.Dense(16, activation='relu', input_shape=(10000,)))\n",
    "model1.add(layers.Dense(16, activation='relu'))\n",
    "\n",
    "model1.add(layers.Dense(1, activation='sigmoid'))\n",
    "\n",
    "model1.compile(optimizer='rmsprop', loss='binary_crossentropy', metrics=['accuracy'])\n",
    "model1.fit(x_train, y_train, epochs=4, batch_size=512)"
   ]
  },
  {
   "cell_type": "code",
   "execution_count": 109,
   "metadata": {},
   "outputs": [
    {
     "name": "stdout",
     "output_type": "stream",
     "text": [
      "25000/25000 [==============================] - 3s 101us/step - ETA\n"
     ]
    },
    {
     "data": {
      "text/plain": [
       "[0.3235182568740845, 0.87332]"
      ]
     },
     "execution_count": 109,
     "metadata": {},
     "output_type": "execute_result"
    }
   ],
   "source": [
    "results = model1.evaluate(x_test, y_test)\n",
    "results"
   ]
  },
  {
   "cell_type": "code",
   "execution_count": 110,
   "metadata": {},
   "outputs": [
    {
     "data": {
      "text/plain": [
       "array([[0.14061199],\n",
       "       [0.99970406],\n",
       "       [0.29775462],\n",
       "       ...,\n",
       "       [0.07175863],\n",
       "       [0.04310416],\n",
       "       [0.47099328]], dtype=float32)"
      ]
     },
     "execution_count": 110,
     "metadata": {},
     "output_type": "execute_result"
    }
   ],
   "source": [
    "model1.predict(x_test)"
   ]
  },
  {
   "cell_type": "code",
   "execution_count": null,
   "metadata": {},
   "outputs": [],
   "source": []
  }
 ],
 "metadata": {
  "kernelspec": {
   "display_name": "Python 3",
   "language": "python",
   "name": "python3"
  },
  "language_info": {
   "codemirror_mode": {
    "name": "ipython",
    "version": 3
   },
   "file_extension": ".py",
   "mimetype": "text/x-python",
   "name": "python",
   "nbconvert_exporter": "python",
   "pygments_lexer": "ipython3",
   "version": "3.6.3"
  }
 },
 "nbformat": 4,
 "nbformat_minor": 2
}
